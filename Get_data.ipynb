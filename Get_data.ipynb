{
 "cells": [
  {
   "cell_type": "markdown",
   "id": "5541bd64-ec8c-42f1-b5ca-01a8ce8105a3",
   "metadata": {},
   "source": [
    "# Get Data\n",
    "\n",
    "We get data from https://github.com/jean2612/Dataset-Placas-Transito\n"
   ]
  },
  {
   "cell_type": "code",
   "execution_count": 1,
   "id": "a098df4e-c93c-4753-a1f4-874023fbba54",
   "metadata": {},
   "outputs": [
    {
     "name": "stdout",
     "output_type": "stream",
     "text": [
      "fatal: could not create leading directories of '/datasets2/da': Permission denied\n"
     ]
    }
   ],
   "source": [
    "!git clone https://github.com/jean2612/Dataset-Placas-Transito.git datasets/dataset_temp"
   ]
  },
  {
   "cell_type": "code",
   "execution_count": null,
   "id": "d166bb48-9de8-4d11-9b51-6592b7add7da",
   "metadata": {},
   "outputs": [],
   "source": [
    "#Update the format of the folder so it works with Yolov8\n",
    "\n",
    "!mkdir datasets/dataset/train\n",
    "!mkdir datasets/dataset/val\n",
    "!mkdir datasets/dataset/train/images\n",
    "!mkdir datasets/dataset/train/labels \n",
    "!mkdir datasets/dataset/val/images\n",
    "!mkdir datasets/dataset/val/labels\n",
    "\n",
    "!mv datasets/dataset_temp/images/train/* datasets/dataset/train/images/\n",
    "!mv datasets/dataset_temp/images/val/* datasets/dataset/val/images/\n",
    "!mv datasets/dataset_temp/labels/train/* datasets/dataset/train/labels/\n",
    "!mv datasets/dataset_temp/labels/val/* datasets/dataset/val/labels/\n",
    "\n",
    "!rm -r datasets/dataset/images"
   ]
  }
 ],
 "metadata": {
  "kernelspec": {
   "display_name": "VisMLProject",
   "language": "python",
   "name": "vismlproject"
  },
  "language_info": {
   "codemirror_mode": {
    "name": "ipython",
    "version": 3
   },
   "file_extension": ".py",
   "mimetype": "text/x-python",
   "name": "python",
   "nbconvert_exporter": "python",
   "pygments_lexer": "ipython3",
   "version": "3.12.2"
  }
 },
 "nbformat": 4,
 "nbformat_minor": 5
}
