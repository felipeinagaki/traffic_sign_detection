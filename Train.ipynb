{
 "cells": [
  {
   "cell_type": "markdown",
   "id": "1a5bb0ba-a0c3-42d9-b805-fc9cbb10b771",
   "metadata": {},
   "source": [
    "# Initial Imports and auxiliary functions"
   ]
  },
  {
   "cell_type": "code",
   "execution_count": null,
   "id": "0da6f43e-94f3-4737-82cb-f44b87e7ccec",
   "metadata": {},
   "outputs": [],
   "source": [
    "# Initial Imports \n",
    "\n",
    "import cv2\n",
    "from ultralytics import YOLO, RTDETR\n",
    "from PIL import Image"
   ]
  },
  {
   "cell_type": "markdown",
   "id": "9c8c2a54-c6dc-44fa-9dc1-233f01969ca7",
   "metadata": {},
   "source": [
    "# Train"
   ]
  },
  {
   "cell_type": "markdown",
   "id": "9f2ab7a6-a39a-4889-9967-53c9e88bb334",
   "metadata": {},
   "source": [
    "## Yolov8 nano"
   ]
  },
  {
   "cell_type": "code",
   "execution_count": 20,
   "id": "c0b3a3c6-8093-4866-825d-a88d526fa764",
   "metadata": {},
   "outputs": [],
   "source": [
    "\n",
    "model = YOLO('yolov8n.pt') \n",
    "results = model.train(data='dataset.yaml', epochs=100) \n",
    "\n"
   ]
  },
  {
   "cell_type": "markdown",
   "id": "7d3747a0-660e-42d9-bf00-009efc6faa99",
   "metadata": {},
   "source": [
    "## Yolov8 small"
   ]
  },
  {
   "cell_type": "code",
   "execution_count": null,
   "id": "eb1e344d-aa84-44a8-b96a-743d2769dadb",
   "metadata": {},
   "outputs": [],
   "source": [
    "\n",
    "model = YOLO('yolov8s.pt')  \n",
    "results = model.train(data='dataset.yaml', epochs=100)  "
   ]
  },
  {
   "cell_type": "markdown",
   "id": "a1740c6d-485d-4127-9c17-9b6637aa65cd",
   "metadata": {},
   "source": [
    "## Yolov8 medium\n"
   ]
  },
  {
   "cell_type": "code",
   "execution_count": null,
   "id": "5f4d4bb2-98c1-4fb0-a655-8104c27b5f10",
   "metadata": {},
   "outputs": [],
   "source": [
    "\n",
    "model = YOLO('yolov8m.pt')  \n",
    "results = model.train(data='dataset.yaml', epochs=100) "
   ]
  },
  {
   "cell_type": "markdown",
   "id": "efcfa821-53bc-4e64-84ca-83f0fe5918c9",
   "metadata": {},
   "source": [
    "## RTDETR-L"
   ]
  },
  {
   "cell_type": "code",
   "execution_count": null,
   "id": "0f5fd08e-4416-4a3b-bf13-70780e65f193",
   "metadata": {},
   "outputs": [],
   "source": [
    "\n",
    "model = RTDETR('rtdetr-l.pt')\n",
    "\n",
    "results = model.train(data='dataset.yaml', epochs=100)"
   ]
  }
 ],
 "metadata": {
  "kernelspec": {
   "display_name": "sign_recognition",
   "language": "python",
   "name": "sign_recognition"
  },
  "language_info": {
   "codemirror_mode": {
    "name": "ipython",
    "version": 3
   },
   "file_extension": ".py",
   "mimetype": "text/x-python",
   "name": "python",
   "nbconvert_exporter": "python",
   "pygments_lexer": "ipython3",
   "version": "3.12.2"
  }
 },
 "nbformat": 4,
 "nbformat_minor": 5
}
